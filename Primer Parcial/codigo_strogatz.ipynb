{
 "cells": [
  {
   "cell_type": "code",
   "execution_count": 2,
   "id": "81776061",
   "metadata": {},
   "outputs": [
    {
     "data": {
      "application/vnd.jupyter.widget-view+json": {
       "model_id": "df3c1724e045497a80327942a85d7568",
       "version_major": 2,
       "version_minor": 0
      },
      "text/plain": [
       "interactive(children=(FloatSlider(value=0.0, description='a', max=2.0, min=-2.0), Output()), _dom_classes=('wi…"
      ]
     },
     "metadata": {},
     "output_type": "display_data"
    },
    {
     "data": {
      "text/plain": [
       "<function __main__.plot_strogatz(a)>"
      ]
     },
     "execution_count": 2,
     "metadata": {},
     "output_type": "execute_result"
    }
   ],
   "source": [
    "from ipywidgets import interact, FloatSlider\n",
    "import matplotlib.pyplot as plt\n",
    "import numpy as np\n",
    "\n",
    "def plot_strogatz(a):\n",
    "    def sistema_strogatz(t, XY):\n",
    "        x, y = XY\n",
    "        dxdt = -y + a*x*(x**2 + y**2)\n",
    "        dydt = x + a*y*(x**2 + y**2)\n",
    "        return dxdt, dydt\n",
    "\n",
    "    X_vals = np.arange(-2, 2, 0.5)\n",
    "    Y_vals = np.arange(-2, 2, 0.1)\n",
    "    X, Y = np.meshgrid(X_vals, Y_vals)\n",
    "\n",
    "    dX, dY = np.zeros_like(X), np.zeros_like(Y)\n",
    "    t = 500\n",
    "\n",
    "    for i in range(X.shape[0]):\n",
    "        for j in range(X.shape[1]):\n",
    "            dxdt, dydt = sistema_strogatz(t, np.array([X[i, j], Y[i, j]]))\n",
    "            dX[i, j] = dxdt\n",
    "            dY[i, j] = dydt\n",
    "\n",
    "    plt.figure(figsize=(10, 10))\n",
    "    plt.streamplot(X, Y, dX, dY)\n",
    "    plt.xlim(-2, 2)\n",
    "    plt.ylim(-2, 2)\n",
    "    plt.show()\n",
    "\n",
    "interact(plot_strogatz, a=FloatSlider(min=-2.0, max=2.0, step=0.1, value=0.0))"
   ]
  }
 ],
 "metadata": {
  "kernelspec": {
   "display_name": "Python 3",
   "language": "python",
   "name": "python3"
  },
  "language_info": {
   "codemirror_mode": {
    "name": "ipython",
    "version": 3
   },
   "file_extension": ".py",
   "mimetype": "text/x-python",
   "name": "python",
   "nbconvert_exporter": "python",
   "pygments_lexer": "ipython3",
   "version": "3.12.5"
  }
 },
 "nbformat": 4,
 "nbformat_minor": 5
}
